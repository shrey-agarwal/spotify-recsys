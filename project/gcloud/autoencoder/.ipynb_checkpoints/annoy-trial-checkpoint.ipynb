{
 "cells": [
  {
   "cell_type": "code",
   "execution_count": 1,
   "metadata": {},
   "outputs": [],
   "source": [
    "from annoy import AnnoyIndex\n",
    "import random\n",
    "from tqdm import tqdm_notebook"
   ]
  },
  {
   "cell_type": "code",
   "execution_count": 3,
   "metadata": {},
   "outputs": [],
   "source": [
    "\n",
    "def createAnnoyIndex():\n",
    "    dim = 5\n",
    "    annoy_fname = './annoy.ann'\n",
    "    annoy_indexer = AnnoyIndex(dim)  # Length of item vector that will be indexed\n",
    "    v = [1,2,3,4,5]\n",
    "    for i in tqdm_notebook(range(100)):\n",
    "        annoy_indexer.add_item(i,v)\n",
    "    print('Building Annoy Index...')\n",
    "    annoy_indexer.build(10) # 10 trees\n",
    "    print('Saving Annoy Index...')\n",
    "    annoy_indexer.save(annoy_fname)\n",
    "    print('Done!')\n",
    "    return annoy_indexer\n",
    "    \n",
    "def loadAnnoyIndex(dim,num_trees,path=''):\n",
    "    annoy_fname = path + '/annoy-'+str(num_trees)+'.ann'\n",
    "    annoy_indexer = AnnoyIndex(dim)\n",
    "    annoy_indexer.load(annoy_fname) # super fast, will just mmap the file\n",
    "    #print(t.get_nns_by_item(0, 5)) # will find the 1000 nearest neighbors"
   ]
  },
  {
   "cell_type": "code",
   "execution_count": 4,
   "metadata": {},
   "outputs": [
    {
     "data": {
      "application/vnd.jupyter.widget-view+json": {
       "model_id": "27436cdfeb154482bd5edd179aade0d6",
       "version_major": 2,
       "version_minor": 0
      },
      "text/plain": [
       "HBox(children=(IntProgress(value=0), HTML(value='')))"
      ]
     },
     "metadata": {},
     "output_type": "display_data"
    },
    {
     "name": "stdout",
     "output_type": "stream",
     "text": [
      "\n",
      "Building Annoy Index...\n",
      "Saving Annoy Index...\n",
      "Done!\n"
     ]
    }
   ],
   "source": [
    "a = createAnnoyIndex()"
   ]
  },
  {
   "cell_type": "code",
   "execution_count": 5,
   "metadata": {},
   "outputs": [
    {
     "data": {
      "text/plain": [
       "1000000"
      ]
     },
     "execution_count": 5,
     "metadata": {},
     "output_type": "execute_result"
    }
   ],
   "source": [
    "t.get_n_items()"
   ]
  },
  {
   "cell_type": "code",
   "execution_count": null,
   "metadata": {},
   "outputs": [],
   "source": []
  }
 ],
 "metadata": {
  "kernelspec": {
   "display_name": "Python 3",
   "language": "python",
   "name": "python3"
  },
  "language_info": {
   "codemirror_mode": {
    "name": "ipython",
    "version": 3
   },
   "file_extension": ".py",
   "mimetype": "text/x-python",
   "name": "python",
   "nbconvert_exporter": "python",
   "pygments_lexer": "ipython3",
   "version": "3.5.2"
  }
 },
 "nbformat": 4,
 "nbformat_minor": 2
}
